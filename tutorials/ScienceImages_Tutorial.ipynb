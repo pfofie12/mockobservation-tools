{
 "cells": [
  {
   "cell_type": "code",
   "execution_count": 6,
   "id": "4c6a41f2",
   "metadata": {},
   "outputs": [],
   "source": [
    "import matplotlib.pyplot as plt\n",
    "import numpy as np\n",
    "\n",
    "from mockobservation_tools.galaxy_tools import (load_halo,\n",
    "                                                load_sim,\n",
    "                                                mask_sim_to_halo,\n",
    "                                                get_mock_observation,\n",
    "                                                )\n",
    "\n",
    "from mockobservation_tools.general_tools import mag_to_lum_SB\n",
    "\n",
    "from firestudio.utils.stellar_utils.load_stellar_hsml import get_particle_hsml\n",
    "import firestudio\n",
    "%matplotlib inline\n"
   ]
  },
  {
   "cell_type": "code",
   "execution_count": 5,
   "id": "0b7c19a1",
   "metadata": {},
   "outputs": [
    {
     "data": {
      "text/plain": [
       "<module 'firestudio' from '/nfspool-0/home/kleinca/myenviro/lib/python3.6/site-packages/firestudio/__init__.py'>"
      ]
     },
     "execution_count": 5,
     "metadata": {},
     "output_type": "execute_result"
    }
   ],
   "source": [
    "firestudio"
   ]
  },
  {
   "cell_type": "code",
   "execution_count": 12,
   "id": "5825302a",
   "metadata": {},
   "outputs": [
    {
     "data": {
      "text/plain": [
       "<module 'mockobservation_tools' from '/nfspool-0/home/kleinca/myenviro/lib/python3.6/site-packages/mockobservation_tools/__init__.py'>"
      ]
     },
     "execution_count": 12,
     "metadata": {},
     "output_type": "execute_result"
    }
   ],
   "source": [
    "mockobservation_tools"
   ]
  },
  {
   "cell_type": "markdown",
   "id": "0410300e",
   "metadata": {},
   "source": [
    "### Part One\n",
    "\n",
    "#### Make a Science Image\n",
    "\n",
    "Make a science image using FIRE Zooms\n",
    "\n",
    "Make a science image using FIREbox\n",
    "\n",
    "\n",
    "### Part Two\n",
    "\n",
    "#### Make a Composite Image\n",
    "\n",
    "This is \n",
    "\n"
   ]
  },
  {
   "cell_type": "code",
   "execution_count": 3,
   "id": "4646cc37",
   "metadata": {},
   "outputs": [
    {
     "data": {
      "text/plain": [
       "<module 'firestudio' from '/nfspool-0/home/kleinca/myenviro/lib/python3.6/site-packages/firestudio/__init__.py'>"
      ]
     },
     "execution_count": 3,
     "metadata": {},
     "output_type": "execute_result"
    }
   ],
   "source": [
    "import firestudio as fs\n",
    "fs"
   ]
  },
  {
   "cell_type": "markdown",
   "id": "8401ec97",
   "metadata": {},
   "source": [
    "# Science Images"
   ]
  },
  {
   "cell_type": "markdown",
   "id": "a4f02352",
   "metadata": {},
   "source": [
    "### Load FIRE zooms\n",
    "\n",
    "The expected input files are the raw simulation file and the halo file \n",
    "\n",
    "This load takes the simulation, centers on the halo, and crops within a given field of view\n",
    "\n"
   ]
  },
  {
   "cell_type": "code",
   "execution_count": 7,
   "id": "4c7777e8",
   "metadata": {},
   "outputs": [],
   "source": [
    "sim = 'm11c_res2100'\n",
    "\n",
    "snap_num = 600\n",
    "\n",
    "# path to the directory holding the simulation snapshot \n",
    "sim_path =  '/DFS-L/DATA/cosmo/grenache/aalazar/FIRE/GVB/'+str(sim)+'/output/hdf5/snapdir_'+str(snap_num)+'/'\n",
    "\n",
    "# path to the directory holding the halo files for the simulation\n",
    "halo_path = '/DFS-L/DATA/cosmo/grenache/aalazar/FIRE/GVB/'+str(sim)+'/halo/rockstar_dm/hdf5/'\n"
   ]
  },
  {
   "cell_type": "code",
   "execution_count": 8,
   "id": "bb43adad",
   "metadata": {},
   "outputs": [],
   "source": [
    "# This loads the halo file\n",
    "# host=True means it only returns the host halo information, otherwise it returns all the halos\n",
    "# filetype='hdf5' indicate the halo file type, some halos are filetype='ascii'\n",
    "# hostnumber indicates which host halo you are looking at. Only need to worry about this for the elvis pairs.\n",
    "        #use hostnumber=2 to get the halo info for the second host halo. \n",
    "        #ex: halo_themla = load_halo(halo_path, snap_num, host=True, filetype='hdf5', hostnumber=1)\n",
    "        #    halo_louise = load_halo(halo_path, snap_num, host=True, filetype='hdf5', hostnumber=2)\n",
    "\n",
    "\n",
    "halo = load_halo(halo_path, snap_num, host=True, filetype='hdf5', hostnumber=1)\n"
   ]
  },
  {
   "cell_type": "code",
   "execution_count": 9,
   "id": "ec6369d1",
   "metadata": {},
   "outputs": [],
   "source": [
    "# This loads the star and gas particle\n",
    "# It only loads the parameters I need for the mock images\n",
    "\n",
    "star_snapdict, gas_snapdict = load_sim(sim_path,snap_num)\n"
   ]
  },
  {
   "cell_type": "code",
   "execution_count": 10,
   "id": "170ec5aa",
   "metadata": {},
   "outputs": [
    {
     "name": "stdout",
     "output_type": "stream",
     "text": [
      "/nfspool-0/home/kleinca/myenviro/lib/python3.6/site-packages/firestudio/utils/C_routines/StellarHsml/starhsml.so\n"
     ]
    }
   ],
   "source": [
    "# This centers star and gas dictionaries on the host halo\n",
    "# If orient=True, then it will rotate the particles based on the disk orientation\n",
    "# If lim=True, then it masks out the particles beyond the limvalue\n",
    "    # Have lim=False if you want to carry around all the particles\n",
    "    # I chose to mask out particles beyond the virial radius\n",
    "    \n",
    "    \n",
    "\n",
    "limvalue = halo['rvir'].values[0] * 0.05\n",
    "\n",
    "star_snapdict, gas_snapdict, halo = mask_sim_to_halo(star_snapdict=star_snapdict,\n",
    "                                                         gas_snapdict=gas_snapdict, \n",
    "                                                         host_halo=halo, \n",
    "                                                         orient=False,\n",
    "                                                         lim = True,\n",
    "                                                         limvalue = limvalue\n",
    "                                                        )\n"
   ]
  },
  {
   "cell_type": "code",
   "execution_count": 11,
   "id": "070c4ddf",
   "metadata": {},
   "outputs": [
    {
     "ename": "AttributeError",
     "evalue": "module 'firestudio.utils.stellar_utils.raytrace_projection' has no attribute 'read_band_lums_from_tables'",
     "output_type": "error",
     "traceback": [
      "\u001b[0;31m---------------------------------------------------------------------------\u001b[0m",
      "\u001b[0;31mAttributeError\u001b[0m                            Traceback (most recent call last)",
      "\u001b[0;32m<ipython-input-11-d3bfcfb95709>\u001b[0m in \u001b[0;36m<module>\u001b[0;34m\u001b[0m\n\u001b[1;32m     10\u001b[0m                                           \u001b[0mminden\u001b[0m\u001b[0;34m=\u001b[0m\u001b[0;36m1\u001b[0m\u001b[0;34m,\u001b[0m\u001b[0;34m\u001b[0m\u001b[0;34m\u001b[0m\u001b[0m\n\u001b[1;32m     11\u001b[0m                                           \u001b[0mdynrange\u001b[0m\u001b[0;34m=\u001b[0m\u001b[0;36m1e10\u001b[0m\u001b[0;34m,\u001b[0m\u001b[0;34m\u001b[0m\u001b[0;34m\u001b[0m\u001b[0m\n\u001b[0;32m---> 12\u001b[0;31m                                           center='none')\n\u001b[0m",
      "\u001b[0;32m/nfspool-0/home/kleinca/myenviro/lib/python3.6/site-packages/mockobservation_tools/galaxy_tools.py\u001b[0m in \u001b[0;36mget_mock_observation\u001b[0;34m(star_snapdict, gas_snapdict, bands, FOV, pixels, view, center, minden, dynrange, mass_scalar, hsml_scalar, return_type, QUIET)\u001b[0m\n\u001b[1;32m    639\u001b[0m \u001b[0;34m\u001b[0m\u001b[0m\n\u001b[1;32m    640\u001b[0m \u001b[0;34m\u001b[0m\u001b[0m\n\u001b[0;32m--> 641\u001b[0;31m     kappas,lums = raytrace_projection.read_band_lums_from_tables(bands,\n\u001b[0m\u001b[1;32m    642\u001b[0m                                                                  \u001b[0mstar_snapdict\u001b[0m\u001b[0;34m[\u001b[0m\u001b[0;34m'Masses'\u001b[0m\u001b[0;34m]\u001b[0m\u001b[0;34m*\u001b[0m\u001b[0mmass_scalar\u001b[0m\u001b[0;34m,\u001b[0m\u001b[0;34m\u001b[0m\u001b[0;34m\u001b[0m\u001b[0m\n\u001b[1;32m    643\u001b[0m                                                                  \u001b[0mstar_snapdict\u001b[0m\u001b[0;34m[\u001b[0m\u001b[0;34m'StellarAge'\u001b[0m\u001b[0;34m]\u001b[0m\u001b[0;34m,\u001b[0m\u001b[0;34m\u001b[0m\u001b[0;34m\u001b[0m\u001b[0m\n",
      "\u001b[0;31mAttributeError\u001b[0m: module 'firestudio.utils.stellar_utils.raytrace_projection' has no attribute 'read_band_lums_from_tables'"
     ]
    }
   ],
   "source": [
    "pixel = 1000\n",
    "FOV = limvalue\n",
    "view = 'xy'\n",
    "\n",
    "band_image = get_mock_observation(star_snapdict,gas_snapdict,\n",
    "                                          FOV=FOV, \n",
    "                                          return_type='mock_image',\n",
    "                                          pixels=pixel, \n",
    "                                          view=view,\n",
    "                                          minden=1, \n",
    "                                          dynrange=1e10,\n",
    "                                          center='none')"
   ]
  },
  {
   "cell_type": "code",
   "execution_count": 16,
   "id": "87b4d7da",
   "metadata": {},
   "outputs": [
    {
     "data": {
      "text/plain": [
       "<module 'firestudio.utils.stellar_utils.raytrace_projection' from '/nfspool-0/home/kleinca/myenviro/lib/python3.6/site-packages/firestudio/utils/stellar_utils/raytrace_projection.py'>"
      ]
     },
     "execution_count": 16,
     "metadata": {},
     "output_type": "execute_result"
    }
   ],
   "source": [
    "import firestudio.utils.stellar_utils.raytrace_projection\n",
    "firestudio.utils.stellar_utils.raytrace_projection"
   ]
  },
  {
   "cell_type": "code",
   "execution_count": null,
   "id": "213004c8",
   "metadata": {},
   "outputs": [],
   "source": []
  },
  {
   "cell_type": "code",
   "execution_count": null,
   "id": "7ad82aa2",
   "metadata": {},
   "outputs": [],
   "source": []
  },
  {
   "cell_type": "code",
   "execution_count": null,
   "id": "6a56646a",
   "metadata": {},
   "outputs": [],
   "source": []
  },
  {
   "cell_type": "code",
   "execution_count": null,
   "id": "5cd979c9",
   "metadata": {},
   "outputs": [],
   "source": []
  },
  {
   "cell_type": "code",
   "execution_count": null,
   "id": "da6e5eac",
   "metadata": {},
   "outputs": [],
   "source": []
  },
  {
   "cell_type": "code",
   "execution_count": null,
   "id": "0a944f4e",
   "metadata": {},
   "outputs": [],
   "source": []
  },
  {
   "cell_type": "code",
   "execution_count": null,
   "id": "9a2908f5",
   "metadata": {},
   "outputs": [],
   "source": []
  },
  {
   "cell_type": "code",
   "execution_count": null,
   "id": "409eb249",
   "metadata": {},
   "outputs": [],
   "source": []
  },
  {
   "cell_type": "code",
   "execution_count": null,
   "id": "c1c7df91",
   "metadata": {},
   "outputs": [],
   "source": []
  },
  {
   "cell_type": "code",
   "execution_count": null,
   "id": "2d5001fb",
   "metadata": {},
   "outputs": [],
   "source": []
  },
  {
   "cell_type": "code",
   "execution_count": null,
   "id": "005e66f4",
   "metadata": {},
   "outputs": [],
   "source": []
  },
  {
   "cell_type": "code",
   "execution_count": null,
   "id": "f14f5180",
   "metadata": {},
   "outputs": [],
   "source": [
    "plt.hexbin(star_snapdict['Coordinates'][:,0],star_snapdict['Coordinates'][:,1], bins='log')\n",
    "plt.gca().set_aspect(1)"
   ]
  },
  {
   "cell_type": "code",
   "execution_count": null,
   "id": "d88af1fe",
   "metadata": {},
   "outputs": [],
   "source": []
  },
  {
   "cell_type": "code",
   "execution_count": 11,
   "id": "233b366b",
   "metadata": {},
   "outputs": [
    {
     "data": {
      "text/plain": [
       "{'h': 0.702,\n",
       " 'a': 0.9999999999999998,\n",
       " 'Coordinates': array([[  268.10367826,   387.99903189,   -47.59236472],\n",
       "        [  269.06474045,   426.4462662 ,   -63.76301418],\n",
       "        [  267.36900984,   418.69186354,   -28.04513305],\n",
       "        ...,\n",
       "        [ 2931.8874819 , -2523.11508152,   544.26078733],\n",
       "        [ 2932.71815115, -2522.58338916,   544.10104123],\n",
       "        [ 2940.30303898, -2522.68556121,   558.25611226]]),\n",
       " 'Velocities': array([[ -25.0974102 , -100.76411438,  -83.91740417],\n",
       "        [ -13.32144737,  -77.31069183,  -33.60589218],\n",
       "        [   9.7593317 , -107.96266174,  -51.40874863],\n",
       "        ...,\n",
       "        [  16.40116882, -162.43916321, -272.87780762],\n",
       "        [ 103.07076263, -183.82739258, -289.02639771],\n",
       "        [  53.56354523, -176.84831238, -272.097229  ]]),\n",
       " 'Masses': array([1421.11836702, 1485.89486394, 1336.87846485, ..., 1390.72677401,\n",
       "        1425.45308257, 1354.28969716]),\n",
       " 'Metallicity': array([0.00028356, 0.00243344, 0.00153257, ..., 0.0015911 , 0.00025643,\n",
       "        0.00153939]),\n",
       " 'hsml': array([], dtype=float64),\n",
       " 'ParticleIDs': array([51634228., 35179024., 23797917., ..., 49336985., 41779903.,\n",
       "        44704888.]),\n",
       " 'StellarFormationTime': array([0.16474742, 0.51877141, 0.51878482, ..., 0.24296726, 0.32602596,\n",
       "        0.24409519]),\n",
       " 'StellarAge': array([12.64288713,  7.62753522,  7.62731628, ..., 11.73653259,\n",
       "        10.61665874, 11.72230993]),\n",
       " 'r': array([ 474.01251484,  508.24991341,  497.56968708, ..., 3906.18659638,\n",
       "        3906.44450267, 3914.20161574]),\n",
       " 'r_xy': array([ 471.61725058,  504.23432301,  496.77868716, ..., 3868.08401164,\n",
       "        3868.36693054, 3874.18693429]),\n",
       " 'r_yz': array([ 390.90699907,  431.18689675,  419.63008243, ..., 2581.14887584,\n",
       "        2580.59545422, 2583.71676614]),\n",
       " 'r_zx': array([ 272.29508897,  276.51682865,  268.83585495, ..., 2981.9765276 ,\n",
       "        2982.7641035 , 2992.83007334])}"
      ]
     },
     "execution_count": 11,
     "metadata": {},
     "output_type": "execute_result"
    }
   ],
   "source": [
    "star_snapdict"
   ]
  },
  {
   "cell_type": "code",
   "execution_count": null,
   "id": "b846ca6f",
   "metadata": {},
   "outputs": [],
   "source": []
  },
  {
   "cell_type": "code",
   "execution_count": null,
   "id": "92306cec",
   "metadata": {},
   "outputs": [],
   "source": []
  },
  {
   "cell_type": "code",
   "execution_count": null,
   "id": "1338a3be",
   "metadata": {},
   "outputs": [],
   "source": []
  },
  {
   "cell_type": "code",
   "execution_count": null,
   "id": "d3a2a483",
   "metadata": {},
   "outputs": [],
   "source": []
  },
  {
   "cell_type": "code",
   "execution_count": null,
   "id": "971a6478",
   "metadata": {},
   "outputs": [],
   "source": []
  },
  {
   "cell_type": "code",
   "execution_count": null,
   "id": "b4e9bd0a",
   "metadata": {},
   "outputs": [],
   "source": [
    "load_sim_FIREBox"
   ]
  },
  {
   "cell_type": "code",
   "execution_count": null,
   "id": "920ed4b1",
   "metadata": {},
   "outputs": [],
   "source": []
  },
  {
   "cell_type": "code",
   "execution_count": null,
   "id": "448d9aa8",
   "metadata": {},
   "outputs": [],
   "source": []
  }
 ],
 "metadata": {
  "kernelspec": {
   "display_name": "Python 3",
   "language": "python",
   "name": "python3"
  },
  "language_info": {
   "codemirror_mode": {
    "name": "ipython",
    "version": 3
   },
   "file_extension": ".py",
   "mimetype": "text/x-python",
   "name": "python",
   "nbconvert_exporter": "python",
   "pygments_lexer": "ipython3",
   "version": "3.6.8"
  }
 },
 "nbformat": 4,
 "nbformat_minor": 5
}
